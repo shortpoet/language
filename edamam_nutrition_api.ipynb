{
 "cells": [
  {
   "cell_type": "code",
   "execution_count": 1,
   "metadata": {},
   "outputs": [],
   "source": [
    "import requests\n",
    "import json\n",
    "import logging\n",
    "import urllib\n",
    "from pprint import pprint\n",
    "import pandas as pd\n",
    "from datetime import datetime as dt\n",
    "\n",
    "import os\n",
    "\n",
    "import sys\n",
    "sys.path.append('/home/shortpoet/Sources/configs')\n",
    "from edamam_nutr_config import nutr_api_key\n",
    "from edamam_nutr_config2 import nutr_app_id\n",
    "\n",
    "import pymongo\n",
    "from bson.json_util import dumps, loads\n",
    "from bson.objectid import ObjectId"
   ]
  },
  {
   "cell_type": "code",
   "execution_count": 2,
   "metadata": {},
   "outputs": [
    {
     "data": {
      "text/plain": [
       "'/home/shortpoet/Repos/language'"
      ]
     },
     "execution_count": 2,
     "metadata": {},
     "output_type": "execute_result"
    }
   ],
   "source": [
    "os.getcwd()"
   ]
  },
  {
   "cell_type": "code",
   "execution_count": null,
   "metadata": {},
   "outputs": [],
   "source": []
  },
  {
   "cell_type": "code",
   "execution_count": null,
   "metadata": {},
   "outputs": [],
   "source": [
    "base_url = 'https://api.edamam.com/api/nutrition-details'\n",
    "url = 'https://api.edamam.com/api/food-database/nutrients?app_id=' + \\\n",
    "              self.nutrition_appid + '&app_key=' + self.nutrition_appkey\n",
    "\n",
    "        data = {\"ingredients\": ingredients, \"yield\": servings}\n",
    "        r = requests.post(url,\n",
    "                          headers={\"Content-Type\": \"application/json\"},\n",
    "                          data=json.dumps(data))\n",
    "        data = r.json()"
   ]
  },
  {
   "cell_type": "code",
   "execution_count": 21,
   "metadata": {},
   "outputs": [
    {
     "data": {
      "text/plain": [
       "'https://api.edamam.com/api/nutrition-details?&app_id=9267c82b&app_key=e448f9f26e6edc3d2e71b031a4e520b5'"
      ]
     },
     "execution_count": 21,
     "metadata": {},
     "output_type": "execute_result"
    }
   ],
   "source": [
    "def recipe_parse(data):\n",
    "    base_url = 'https://api.edamam.com/api/nutrition-details'\n",
    "    url = base_url + '?' + '&app_id=' + nutr_app_id + '&app_key=' + nutr_api_key\n",
    "    headers = {\"Content-Type\": \"application/json\"}\n",
    "    r = requests.post(url, headers=headers, json=data)\n",
    "    return r.json()\n",
    "recipe_parse()"
   ]
  },
  {
   "cell_type": "code",
   "execution_count": null,
   "metadata": {},
   "outputs": [],
   "source": [
    "data = {\"title\": , \"ingr\": [], 'yeild'}\n",
    "\n"
   ]
  },
  {
   "cell_type": "code",
   "execution_count": 4,
   "metadata": {},
   "outputs": [],
   "source": [
    "conn = 'mongodb://localhost:27017'\n",
    "client = pymongo.MongoClient(conn)\n",
    "mongoDb = client.serious_eats_test3\n"
   ]
  },
  {
   "cell_type": "code",
   "execution_count": 5,
   "metadata": {},
   "outputs": [
    {
     "data": {
      "text/plain": [
       "{'topic': 'Chinese Recipes',\n",
       " 'source': 'serious_eats',\n",
       " 'recipe_title': \"\\nSweet and Sour Sauce\\nToss it on fried chicken to make the best sweet and sour chicken you'll ever eat.\\n\",\n",
       " 'recipe_url': 'https://www.seriouseats.com/recipes/2012/01/sweet-and-sour-sauce.html',\n",
       " 'category_trees': [['Recipes', 'Cuisine', 'Asian', 'Chinese'],\n",
       "  ['Recipes', 'Meal', 'Vegetarian'],\n",
       "  ['Recipes', 'Meal', 'Quick and Easy'],\n",
       "  ['Recipes', 'Meal', 'Condiments and Sauces'],\n",
       "  ['Recipes', 'Method', 'Stovetop']],\n",
       " 'recipe': {'name': 'Sweet and Sour Sauce Recipe',\n",
       "  'rating_count': '2',\n",
       "  'rating_value': '3',\n",
       "  'author': 'Joshua Bousel',\n",
       "  'job_title': 'Contributor',\n",
       "  'description': 'Homemade sweet and sour sauce is quick, easy, and the perfect condiment for Chinese takeout or your own fried chicken.',\n",
       "  'keywords': 'chinese, condiment, easy, quick, sauce, sauced, takeout',\n",
       "  'categories': ['Vegetarian',\n",
       "   'Quick and Easy',\n",
       "   'Condiments and Sauces',\n",
       "   'Stovetop'],\n",
       "  'cuisine': 'Chinese',\n",
       "  'ingredients': ['1 tablespoon cornstarch (about 1/4 ounce; 7g)',\n",
       "   '1 tablespoon (15ml) water ',\n",
       "   '2/3 cup (160ml) pineapple juice ',\n",
       "   '1/3 cup (80ml) rice vinegar ',\n",
       "   '1/3 cup (74g) light brown sugar ',\n",
       "   '3 tablespoons (45ml) ketchup ',\n",
       "   '1 tablespoon (15ml) soy sauce'],\n",
       "  'steps': {'step_1': 'In a small bowl, whisk together cornstarch and water. Set aside.',\n",
       "   'step_2': 'In a medium saucepan, combine pineapple juice, rice vinegar, brown sugar, ketchup, and soy sauce and bring to a boil over medium heat. Stir in cornstarch slurry and cook until thickened, about 1 to 2 minutes. Remove from heat and use immediately or store in an airtight container in the refrigerator for up to 2 weeks.'},\n",
       "  'recipe_yield': 'Makes 1 cup (240ml)',\n",
       "  'time': '10.0'},\n",
       " 'uploaded': datetime.datetime(2019, 2, 24, 15, 33, 19, 850000)}"
      ]
     },
     "execution_count": 5,
     "metadata": {},
     "output_type": "execute_result"
    }
   ],
   "source": [
    "collection = mongoDb['Chinese Recipes']\n",
    "recipe_dict = collection.find_one({}, {'_id':False})\n",
    "recipe_dict"
   ]
  },
  {
   "cell_type": "code",
   "execution_count": 6,
   "metadata": {},
   "outputs": [
    {
     "data": {
      "text/plain": [
       "['1 tablespoon cornstarch (about 1/4 ounce; 7g)',\n",
       " '1 tablespoon (15ml) water ',\n",
       " '2/3 cup (160ml) pineapple juice ',\n",
       " '1/3 cup (80ml) rice vinegar ',\n",
       " '1/3 cup (74g) light brown sugar ',\n",
       " '3 tablespoons (45ml) ketchup ',\n",
       " '1 tablespoon (15ml) soy sauce']"
      ]
     },
     "execution_count": 6,
     "metadata": {},
     "output_type": "execute_result"
    }
   ],
   "source": [
    "ing_list = recipe_dict['recipe']['ingredients']\n",
    "ing_list"
   ]
  },
  {
   "cell_type": "code",
   "execution_count": null,
   "metadata": {},
   "outputs": [],
   "source": [
    "mongoDb = client.serious_eats_test3\n",
    "for coll in coll_names:\n",
    "    print(coll)\n",
    "    collection = mongoDb[coll]\n",
    "    this_coll = collection.find()\n",
    "    for recipe_dict in this_coll:\n",
    "        _id = recipe_dict['_id']\n",
    "        print(_id)\n",
    "        if recipe_dict['recipe'] != []:\n",
    "            ing_list = recipe_dict['recipe']['ingredients']\n",
    "            data = { \n",
    "            \"ingr\": ing_list,\n",
    "            \"title\": recipe_dict['recipe']['name'],\n",
    "            \"yield\": recipe_dict['recipe']['steps']['recipe_yield'], \n",
    "            \"line_delimited\": False, \n",
    "            \"use_raw_foods\": False, \n",
    "            \"include_subrecipe\": True, \n",
    "            \"lat\": 0, \n",
    "            \"lng\": 0, \n",
    "            \"meal_type\": 0, \n",
    "            \"use_branded_foods\": False, \n",
    "            \"locale\": \"en_US\"\n",
    "            }\n",
    "            recp_resp = requests.post(url, headers=headers, json=data)\n",
    "            collection.update_one({'_id': ObjectId(_id)}, {'$set': {'nutrition': recp_resp.json()}})\n",
    "        "
   ]
  }
 ],
 "metadata": {
  "kernelspec": {
   "display_name": "Python (PythonData)",
   "language": "python",
   "name": "pythondata"
  },
  "language_info": {
   "codemirror_mode": {
    "name": "ipython",
    "version": 3
   },
   "file_extension": ".py",
   "mimetype": "text/x-python",
   "name": "python",
   "nbconvert_exporter": "python",
   "pygments_lexer": "ipython3",
   "version": "3.6.8"
  }
 },
 "nbformat": 4,
 "nbformat_minor": 2
}
