{
 "cells": [
  {
   "cell_type": "code",
   "execution_count": 1,
   "metadata": {},
   "outputs": [],
   "source": [
    "import os\n",
    "\n",
    "import pymongo\n",
    "from bson.json_util import dumps, loads\n",
    "from bson.objectid import ObjectId\n",
    "\n",
    "from splinter import Browser\n",
    "from bs4 import BeautifulSoup as bs\n",
    "from selenium import webdriver\n",
    "from selenium.webdriver.support.ui import Select\n",
    "from selenium.webdriver.support import expected_conditions as EC\n",
    "from selenium.webdriver.common.by import By\n",
    "from selenium.webdriver.support.ui import WebDriverWait # available since 2.4.0\n",
    "from selenium.webdriver.support import expected_conditions as EC # available since 2.26.0\n",
    "from selenium.common.exceptions import TimeoutException\n",
    "\n",
    "import pandas as pd\n",
    "\n",
    "import re\n",
    "from pprint import pprint\n",
    "from datetime import datetime as dt\n",
    "import time\n",
    "import isodate\n",
    "\n",
    "import sys\n",
    "# sys.path.append('C:\\\\Users\\\\soria\\\\Documents\\\\WashUDataDocuments\\\\HwActivites\\\\YouTube_Project\\\\')\n",
    "from config import YOUTUBE_DATA_API_KEY\n",
    "import pandas as pd\n",
    "import json\n",
    "import os\n",
    "from pprint import pprint"
   ]
  },
  {
   "cell_type": "code",
   "execution_count": 216,
   "metadata": {},
   "outputs": [],
   "source": [
    "executable_path = {'executable_path': '/Users/soria/Anaconda3/Scripts/chromedriver'}\n",
    "# browser = Browser('chrome', **executable_path)\n",
    "driver = webdriver.Chrome()"
   ]
  },
  {
   "cell_type": "code",
   "execution_count": null,
   "metadata": {},
   "outputs": [],
   "source": [
    "conn = 'mongodb://localhost:27017'\n",
    "client = pymongo.MongoClient(conn)\n",
    "mongoDb = client.tinder\n",
    "collection = mongoDb.tinder_scrape"
   ]
  },
  {
   "cell_type": "code",
   "execution_count": null,
   "metadata": {},
   "outputs": [],
   "source": [
    "\n",
    "TIMEOUT_IN_SECONDS = 10\n",
    "\n",
    "wait = WebDriverWait(driver, TIMEOUT_IN_SECONDS)\n",
    "url = 'https://tinder.com/app/matches'\n",
    "driver.get(url)\n",
    "\n",
    "wait.until(\n",
    "    EC.presence_of_element_located((By.CSS_SELECTOR, \".messageListItem__nameAndBadges\")))\n",
    "\n",
    "def get_count():\n",
    "    return len(driver.find_elements_by_css_selector(\".messageListItem__nameAndBadges\"))\n",
    "\n",
    "while True:\n",
    "    initial_count = get_count()\n",
    "    driver.execute_script(\n",
    "        f\"document.getElementsByClassName('messageListItem__nameAndBadges')[{get_count()-1}].scrollIntoView();\")\n",
    "    try:\n",
    "        wait.until(\n",
    "            lambda _: get_count() > initial_count)\n",
    "    except TimeoutException:\n",
    "        # No additional content appeared. Abort our loop.\n",
    "        break\n",
    "\n",
    "elements = driver.find_elements_by_css_selector(\".messageListItem__nameAndBadges\")\n",
    "\n",
    "html = driver.page_source\n",
    "tinder_soup = bs(html, 'html.parser')\n"
   ]
  },
  {
   "cell_type": "code",
   "execution_count": null,
   "metadata": {},
   "outputs": [],
   "source": []
  },
  {
   "cell_type": "code",
   "execution_count": null,
   "metadata": {},
   "outputs": [],
   "source": [
    "TIMEOUT_IN_SECONDS = 10\n",
    "\n",
    "wait = WebDriverWait(driver, TIMEOUT_IN_SECONDS)\n",
    "url = 'https://tinder.com/app/matches'\n",
    "driver.get(url)"
   ]
  },
  {
   "cell_type": "code",
   "execution_count": null,
   "metadata": {},
   "outputs": [],
   "source": [
    "\n",
    "\n",
    "\n",
    "wait.until(\n",
    "    EC.presence_of_element_located((By.CSS_SELECTOR, \".messageListItem__nameAndBadges\")))\n",
    "def get_count():\n",
    "    return len(driver.find_elements_by_css_selector(\".messageListItem__nameAndBadges\"))\n",
    "\n",
    "count = get_count()\n",
    "\n",
    "\n",
    "\n",
    "while True:\n",
    "    driver.execute_script(\n",
    "        f\"document.getElementsByClassName('messageListItem__nameAndBadges')[{get_count()-1}].scrollIntoView();\")\n"
   ]
  },
  {
   "cell_type": "code",
   "execution_count": 232,
   "metadata": {},
   "outputs": [],
   "source": [
    "html = driver.page_source\n",
    "tinder_soup = bs(html, 'html.parser')\n"
   ]
  },
  {
   "cell_type": "code",
   "execution_count": null,
   "metadata": {},
   "outputs": [],
   "source": []
  },
  {
   "cell_type": "code",
   "execution_count": 233,
   "metadata": {},
   "outputs": [
    {
     "data": {
      "text/plain": [
       "45"
      ]
     },
     "execution_count": 233,
     "metadata": {},
     "output_type": "execute_result"
    }
   ],
   "source": [
    "len(driver.find_elements_by_css_selector(\".messageListItem__nameAndBadges\"))"
   ]
  },
  {
   "cell_type": "code",
   "execution_count": null,
   "metadata": {},
   "outputs": [],
   "source": [
    "\n",
    "driver.execute_script(\n",
    "        \"window.scroll(0, 5000);\")"
   ]
  },
  {
   "cell_type": "code",
   "execution_count": null,
   "metadata": {},
   "outputs": [],
   "source": []
  },
  {
   "cell_type": "code",
   "execution_count": 237,
   "metadata": {},
   "outputs": [],
   "source": [
    "matches = driver.find_elements_by_css_selector(\".Ell\")\n",
    "names = []\n",
    "for match in matches:\n",
    "    name = match.text\n",
    "    names.append(name)\n"
   ]
  },
  {
   "cell_type": "code",
   "execution_count": 350,
   "metadata": {},
   "outputs": [
    {
     "data": {
      "text/plain": [
       "1276"
      ]
     },
     "execution_count": 350,
     "metadata": {},
     "output_type": "execute_result"
    }
   ],
   "source": [
    "\n",
    "len(all_names)"
   ]
  },
  {
   "cell_type": "code",
   "execution_count": 349,
   "metadata": {},
   "outputs": [],
   "source": [
    "for name in names[5:43]:\n",
    "    all_names.append(name)\n"
   ]
  },
  {
   "cell_type": "code",
   "execution_count": 240,
   "metadata": {},
   "outputs": [
    {
     "data": {
      "text/plain": [
       "['', '', '', '', '', '', '', '', '', '', '', '']"
      ]
     },
     "execution_count": 240,
     "metadata": {},
     "output_type": "execute_result"
    }
   ],
   "source": [
    "names[0:12]"
   ]
  },
  {
   "cell_type": "code",
   "execution_count": 356,
   "metadata": {},
   "outputs": [],
   "source": [
    "from webbot import Browser \n",
    "web = Browser()\n"
   ]
  },
  {
   "cell_type": "code",
   "execution_count": 357,
   "metadata": {},
   "outputs": [],
   "source": [
    "web.go_to('https://tinder.com/app/matches')"
   ]
  },
  {
   "cell_type": "code",
   "execution_count": 348,
   "metadata": {},
   "outputs": [],
   "source": [
    "for name in names[5:43]:\n",
    "    web.click(text=name)\n",
    "    web.click(text='UNMATCH')\n",
    "    web.click(text='No Reason')\n",
    "    web.click(text='UNMATCH')"
   ]
  },
  {
   "cell_type": "code",
   "execution_count": 32,
   "metadata": {},
   "outputs": [],
   "source": [
    "web.click(classname='messageListItem__nameAndBadges', number=2)\n"
   ]
  },
  {
   "cell_type": "code",
   "execution_count": 90,
   "metadata": {},
   "outputs": [],
   "source": [
    "web.click(text='No Reason')\n",
    "web.click(text='UNMATCH')"
   ]
  },
  {
   "cell_type": "code",
   "execution_count": 351,
   "metadata": {},
   "outputs": [],
   "source": [
    "names = []\n"
   ]
  },
  {
   "cell_type": "code",
   "execution_count": 352,
   "metadata": {},
   "outputs": [
    {
     "name": "stdout",
     "output_type": "stream",
     "text": [
      "My Profile\n",
      "Matches\n",
      "Messages\n",
      "Get Swiping\n",
      "You’ll start seeing matches here once you get swiping! When you’re ready to chat, you can message them directly from here. Swipe on!\n",
      "Jane\n",
      "That trail shot is sweet\n",
      "Blairr\n",
      "How’s your eve?\n",
      "Luana\n",
      "How long have you been here?\n",
      "Keyana\n",
      "The best ever\n",
      "Maryah\n",
      "Come now... It’s such a great pun!\n",
      "Ren\n",
      "Oh yeah\n",
      "elena\n",
      "As long as the effort is mutual\n",
      "Justine\n",
      "Hey nerd\n",
      "Kellie\n",
      "I’d like to say hi\n",
      "Micah\n",
      "Oh hey\n",
      "Bionca\n",
      "Sup B\n",
      "Lilith\n",
      "Drink?\n",
      "Lola\n",
      "Drink?\n",
      "Paige\n",
      "Drink?\n",
      "Neecole\n",
      "Drink?\n",
      "M\n",
      "Hello Canadian\n",
      "Hilary\n",
      "Drink?\n",
      "Suzanne\n",
      "Are you real?\n",
      "Glee\n",
      "Hello\n",
      "Jen\n",
      "Sent\n",
      "Jessica32\n",
      "17 miles away\n",
      "Jeanne23\n",
      "1 mile away\n",
      "HIDE\n",
      "NOPE\n",
      "LIKE\n",
      "OPEN PROFILE\n",
      "CLOSE PROFILE\n",
      "SUPER LIKE\n",
      "NEXT PHOTO\n",
      "My Profile\n",
      "My Profile\n",
      "Matches\n",
      "Messages\n",
      "Get Swiping\n",
      "You’ll start seeing matches here once you get swiping! When you’re ready to chat, you can message them directly from here. Swipe on!\n",
      "Jane\n",
      "That trail shot is sweet\n",
      "Blairr\n",
      "How’s your eve?\n",
      "Luana\n",
      "How long have you been here?\n",
      "Keyana\n",
      "The best ever\n",
      "Maryah\n",
      "Come now... It’s such a great pun!\n",
      "Ren\n",
      "Oh yeah\n",
      "elena\n",
      "As long as the effort is mutual\n",
      "Justine\n",
      "Hey nerd\n",
      "Kellie\n",
      "I’d like to say hi\n",
      "Micah\n",
      "Oh hey\n",
      "Bionca\n",
      "Sup B\n",
      "Lilith\n",
      "Drink?\n",
      "Lola\n",
      "Drink?\n",
      "Paige\n",
      "Drink?\n",
      "Neecole\n",
      "Drink?\n",
      "M\n",
      "Hello Canadian\n",
      "Hilary\n",
      "Drink?\n",
      "Suzanne\n",
      "Are you real?\n",
      "Glee\n",
      "Hello\n",
      "Jen\n",
      "Sent\n",
      "\n",
      "\n",
      "That trail shot is sweet\n",
      "\n",
      "\n",
      "How’s your eve?\n",
      "\n",
      "How long have you been here?\n",
      "\n",
      "\n",
      "The best ever\n",
      "\n",
      "\n",
      "Come now... It’s such a great pun!\n",
      "\n",
      "\n",
      "Oh yeah\n",
      "\n",
      "\n",
      "As long as the effort is mutual\n",
      "\n",
      "Hey nerd\n",
      "\n",
      "\n",
      "I’d like to say hi\n",
      "\n",
      "\n",
      "Oh hey\n",
      "\n",
      "\n",
      "Sup B\n",
      "\n",
      "\n",
      "Drink?\n",
      "\n",
      "\n",
      "Drink?\n",
      "\n",
      "\n",
      "Drink?\n",
      "\n",
      "Drink?\n",
      "\n",
      "\n",
      "Hello Canadian\n",
      "\n",
      "Drink?\n",
      "\n",
      "\n",
      "Are you real?\n",
      "\n",
      "Hello\n",
      "Sent\n",
      "Jessica\n",
      "32\n",
      "17 miles away\n",
      "Jeanne\n",
      "23\n",
      "1 mile away\n",
      "\n",
      "\n",
      "\n",
      "\n",
      "\n",
      "HIDE\n",
      "NOPE\n",
      "NOPE\n",
      "LIKE\n",
      "LIKE\n",
      "OPEN PROFILE\n",
      "OPEN PROFILE\n",
      "CLOSE PROFILE\n",
      "CLOSE PROFILE\n",
      "SUPER LIKE\n",
      "SUPER LIKE\n",
      "NEXT PHOTO\n",
      "NEXT PHOTO\n"
     ]
    }
   ],
   "source": [
    "this = web.find_elements(tag='span', number=1)\n",
    "for t in this:\n",
    "    print(t.text)\n",
    "    names.append(t.text)"
   ]
  },
  {
   "cell_type": "code",
   "execution_count": 353,
   "metadata": {},
   "outputs": [
    {
     "data": {
      "text/plain": [
       "['Get Swiping',\n",
       " 'You’ll start seeing matches here once you get swiping! When you’re ready to chat, you can message them directly from here. Swipe on!',\n",
       " 'Jane\\nThat trail shot is sweet\\nBlairr\\nHow’s your eve?\\nLuana\\nHow long have you been here?\\nKeyana\\nThe best ever\\nMaryah\\nCome now... It’s such a great pun!\\nRen\\nOh yeah\\nelena\\nAs long as the effort is mutual\\nJustine\\nHey nerd\\nKellie\\nI’d like to say hi\\nMicah\\nOh hey\\nBionca\\nSup B\\nLilith\\nDrink?\\nLola\\nDrink?\\nPaige\\nDrink?\\nNeecole\\nDrink?\\nM\\nHello Canadian\\nHilary\\nDrink?\\nSuzanne\\nAre you real?\\nGlee\\nHello\\nJen\\nSent',\n",
       " '',\n",
       " '',\n",
       " 'That trail shot is sweet',\n",
       " '',\n",
       " '',\n",
       " 'How’s your eve?',\n",
       " '',\n",
       " 'How long have you been here?',\n",
       " '',\n",
       " '',\n",
       " 'The best ever',\n",
       " '',\n",
       " '',\n",
       " 'Come now... It’s such a great pun!',\n",
       " '',\n",
       " '',\n",
       " 'Oh yeah',\n",
       " '',\n",
       " '',\n",
       " 'As long as the effort is mutual',\n",
       " '',\n",
       " 'Hey nerd',\n",
       " '',\n",
       " '',\n",
       " 'I’d like to say hi',\n",
       " '',\n",
       " '',\n",
       " 'Oh hey',\n",
       " '',\n",
       " '',\n",
       " 'Sup B',\n",
       " '',\n",
       " '',\n",
       " 'Drink?',\n",
       " '']"
      ]
     },
     "execution_count": 353,
     "metadata": {},
     "output_type": "execute_result"
    }
   ],
   "source": [
    "names[5:43]"
   ]
  },
  {
   "cell_type": "code",
   "execution_count": null,
   "metadata": {},
   "outputs": [],
   "source": [
    "document.getElementById('ELEMENT_ID').scrollIntoView()"
   ]
  }
 ],
 "metadata": {
  "kernelspec": {
   "display_name": "Python [conda env:PythonData]",
   "language": "python",
   "name": "conda-env-PythonData-py"
  },
  "language_info": {
   "codemirror_mode": {
    "name": "ipython",
    "version": 3
   },
   "file_extension": ".py",
   "mimetype": "text/x-python",
   "name": "python",
   "nbconvert_exporter": "python",
   "pygments_lexer": "ipython3",
   "version": "3.6.6"
  }
 },
 "nbformat": 4,
 "nbformat_minor": 2
}
